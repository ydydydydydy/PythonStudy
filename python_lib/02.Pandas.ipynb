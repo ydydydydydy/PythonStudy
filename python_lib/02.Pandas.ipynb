{
 "cells": [
  {
   "cell_type": "markdown",
   "id": "168b88c1",
   "metadata": {},
   "source": [
    "### Pandas (panel datas) 의 약자"
   ]
  },
  {
   "cell_type": "markdown",
   "id": "9d55beb4",
   "metadata": {},
   "source": [
    "# 주요 특성\n",
    "- 인덱싱을 활용하여 데이터 조작이 가능 한 DataFrame 객체가 존재\n",
    "- 데이터간 읽기, 쓰기 기능 지원\n",
    "- 결측치 정렬, 처리\n",
    "- 데이터 컬럼을 추가 삭제\n",
    "- 데이터 셋의 분할, 병합을 지원"
   ]
  },
  {
   "cell_type": "markdown",
   "id": "ac4d0867",
   "metadata": {},
   "source": [
    "## Dataframe은 여러개의 Series로 이루어져 있습니다!"
   ]
  },
  {
   "cell_type": "markdown",
   "id": "42e42a46",
   "metadata": {},
   "source": [
    "##### Series"
   ]
  },
  {
   "cell_type": "code",
   "execution_count": 3,
   "id": "ae9aab92",
   "metadata": {},
   "outputs": [],
   "source": [
    "# 여러 값을 나열한 자료구조\n",
    "# index - value\n",
    "# dataframe 구성하는 하위요소 ----> 여러개의 Series는 DataFrame이 됨"
   ]
  },
  {
   "cell_type": "code",
   "execution_count": 4,
   "id": "cc94f2d3",
   "metadata": {},
   "outputs": [],
   "source": [
    "import pandas as pd"
   ]
  },
  {
   "cell_type": "code",
   "execution_count": 5,
   "id": "6558b425",
   "metadata": {},
   "outputs": [
    {
     "data": {
      "text/plain": [
       "0    1\n",
       "1    2\n",
       "2    3\n",
       "3    4\n",
       "4    5\n",
       "dtype: int64"
      ]
     },
     "execution_count": 5,
     "metadata": {},
     "output_type": "execute_result"
    }
   ],
   "source": [
    "# 값을 가진 series 만들기\n",
    "# pd.Series(리스트)\n",
    "num_series = pd.Series([1,2,3,4,5])\n",
    "num_series\n",
    "\n",
    "# 인덱스 미 작성시 0~데이터 수만큼 자동생성"
   ]
  },
  {
   "cell_type": "code",
   "execution_count": 6,
   "id": "a8f80870",
   "metadata": {},
   "outputs": [
    {
     "data": {
      "text/plain": [
       "kim     10\n",
       "lee     20\n",
       "park    30\n",
       "dtype: int64"
      ]
     },
     "execution_count": 6,
     "metadata": {},
     "output_type": "execute_result"
    }
   ],
   "source": [
    "# 인덱스를 지정한 series 만들기\n",
    "\n",
    "num_series2 = pd.Series([10,20,30], index = ['kim','lee','park'])\n",
    "num_series2"
   ]
  },
  {
   "cell_type": "code",
   "execution_count": 7,
   "id": "690a6522",
   "metadata": {},
   "outputs": [
    {
     "data": {
      "text/plain": [
       "kim     10\n",
       "lee     20\n",
       "park    30\n",
       "dtype: int64"
      ]
     },
     "execution_count": 7,
     "metadata": {},
     "output_type": "execute_result"
    }
   ],
   "source": [
    "# 인덱스 series 만들기 22\n",
    "num_series3 = pd.Series({'kim':10, 'lee':20, 'park':30})\n",
    "num_series3"
   ]
  },
  {
   "cell_type": "code",
   "execution_count": 8,
   "id": "d77e7f81",
   "metadata": {},
   "outputs": [
    {
     "data": {
      "text/plain": [
       "array([10, 20, 30], dtype=int64)"
      ]
     },
     "execution_count": 8,
     "metadata": {},
     "output_type": "execute_result"
    }
   ],
   "source": [
    "# value 값 확인\n",
    "# .values\n",
    "num_series3.values"
   ]
  },
  {
   "cell_type": "code",
   "execution_count": 9,
   "id": "d75f2671",
   "metadata": {},
   "outputs": [
    {
     "data": {
      "text/plain": [
       "Index(['kim', 'lee', 'park'], dtype='object')"
      ]
     },
     "execution_count": 9,
     "metadata": {},
     "output_type": "execute_result"
    }
   ],
   "source": [
    "# index 값 확인\n",
    "# index\n",
    "num_series3.index"
   ]
  },
  {
   "cell_type": "code",
   "execution_count": 10,
   "id": "b4ae660e",
   "metadata": {},
   "outputs": [
    {
     "data": {
      "text/plain": [
       "dtype('int64')"
      ]
     },
     "execution_count": 10,
     "metadata": {},
     "output_type": "execute_result"
    }
   ],
   "source": [
    "# 값의 데이터 타입 확인\n",
    "# dtype\n",
    "num_series3.dtype"
   ]
  },
  {
   "cell_type": "code",
   "execution_count": 11,
   "id": "38f623cd",
   "metadata": {},
   "outputs": [
    {
     "data": {
      "text/plain": [
       "kim     10\n",
       "lee     20\n",
       "park    30\n",
       "Name: series 예제, dtype: int64"
      ]
     },
     "execution_count": 11,
     "metadata": {},
     "output_type": "execute_result"
    }
   ],
   "source": [
    "# 시리즈의 이름을 부여\n",
    "# name = 이름명\n",
    "num_series3.name = 'series 예제'\n",
    "num_series3"
   ]
  },
  {
   "cell_type": "code",
   "execution_count": 12,
   "id": "3ba7f9e2",
   "metadata": {},
   "outputs": [
    {
     "data": {
      "text/plain": [
       "성\n",
       "kim     10\n",
       "lee     20\n",
       "park    30\n",
       "Name: series 예제, dtype: int64"
      ]
     },
     "execution_count": 12,
     "metadata": {},
     "output_type": "execute_result"
    }
   ],
   "source": [
    "# 인덱스 이름 부여\n",
    "# index.name = 인덱스 이름명\n",
    "num_series3.index.name = '성'\n",
    "num_series3"
   ]
  },
  {
   "cell_type": "code",
   "execution_count": 13,
   "id": "5edb5deb",
   "metadata": {},
   "outputs": [
    {
     "data": {
      "text/plain": [
       "도시\n",
       "서울    9602000\n",
       "부산    3344000\n",
       "광주    1488000\n",
       "대구    2419000\n",
       "Name: 2020 인구수, dtype: int64"
      ]
     },
     "execution_count": 13,
     "metadata": {},
     "output_type": "execute_result"
    }
   ],
   "source": [
    "country = pd.Series({'서울':9602000, '부산':3344000, '광주':1488000, '대구':2419000})\n",
    "country.index.name = '도시'\n",
    "country.name = '2020 인구수'\n",
    "country"
   ]
  },
  {
   "cell_type": "code",
   "execution_count": 14,
   "id": "deceec67",
   "metadata": {},
   "outputs": [
    {
     "data": {
      "text/plain": [
       "3344000"
      ]
     },
     "execution_count": 14,
     "metadata": {},
     "output_type": "execute_result"
    }
   ],
   "source": [
    "# 시리즈 값 수정\n",
    "# 인덱싱 간단하게\n",
    "country['부산']"
   ]
  },
  {
   "cell_type": "code",
   "execution_count": 15,
   "id": "73307045",
   "metadata": {},
   "outputs": [
    {
     "data": {
      "text/plain": [
       "도시\n",
       "서울    9602000\n",
       "부산    3500000\n",
       "광주    1488000\n",
       "대구    2419000\n",
       "Name: 2020 인구수, dtype: int64"
      ]
     },
     "execution_count": 15,
     "metadata": {},
     "output_type": "execute_result"
    }
   ],
   "source": [
    "# 인덱싱 = 수정값\n",
    "country['부산'] = 3500000\n",
    "country"
   ]
  },
  {
   "cell_type": "code",
   "execution_count": 16,
   "id": "b359609f",
   "metadata": {},
   "outputs": [
    {
     "data": {
      "text/plain": [
       "도시\n",
       "서울    9602000\n",
       "부산    3500000\n",
       "광주    1488000\n",
       "대구    2419000\n",
       "대전    1500000\n",
       "Name: 2020 인구수, dtype: int64"
      ]
     },
     "execution_count": 16,
     "metadata": {},
     "output_type": "execute_result"
    }
   ],
   "source": [
    "# 값 추가\n",
    "country['대전'] = 1500000\n",
    "country"
   ]
  },
  {
   "cell_type": "code",
   "execution_count": 17,
   "id": "e4814ca9",
   "metadata": {},
   "outputs": [
    {
     "data": {
      "text/plain": [
       "도시\n",
       "부산    3500000\n",
       "광주    1488000\n",
       "대구    2419000\n",
       "대전    1500000\n",
       "Name: 2020 인구수, dtype: int64"
      ]
     },
     "execution_count": 17,
     "metadata": {},
     "output_type": "execute_result"
    }
   ],
   "source": [
    "# 값 삭제\n",
    "# 1. drop(index명) -- 값을 다시 대입 하지 않습니다\n",
    "# drop을 사용해서 해당 index 삭제하고 싶을시 대입까지 진행\n",
    "country = country.drop('서울')\n",
    "\n",
    "country"
   ]
  },
  {
   "cell_type": "code",
   "execution_count": 18,
   "id": "7cfa5f0a",
   "metadata": {},
   "outputs": [
    {
     "data": {
      "text/plain": [
       "도시\n",
       "부산    3500000\n",
       "광주    1488000\n",
       "대구    2419000\n",
       "Name: 2020 인구수, dtype: int64"
      ]
     },
     "execution_count": 18,
     "metadata": {},
     "output_type": "execute_result"
    }
   ],
   "source": [
    "# 2. del 키워드 사용\n",
    "del country['대전']\n",
    "\n",
    "country"
   ]
  },
  {
   "cell_type": "markdown",
   "id": "94f49d7c",
   "metadata": {},
   "source": [
    "### 데이터 프레임"
   ]
  },
  {
   "cell_type": "code",
   "execution_count": 19,
   "id": "ec195254",
   "metadata": {},
   "outputs": [
    {
     "data": {
      "text/html": [
       "<div>\n",
       "<style scoped>\n",
       "    .dataframe tbody tr th:only-of-type {\n",
       "        vertical-align: middle;\n",
       "    }\n",
       "\n",
       "    .dataframe tbody tr th {\n",
       "        vertical-align: top;\n",
       "    }\n",
       "\n",
       "    .dataframe thead th {\n",
       "        text-align: right;\n",
       "    }\n",
       "</style>\n",
       "<table border=\"1\" class=\"dataframe\">\n",
       "  <thead>\n",
       "    <tr style=\"text-align: right;\">\n",
       "      <th></th>\n",
       "      <th>0</th>\n",
       "    </tr>\n",
       "  </thead>\n",
       "  <tbody>\n",
       "    <tr>\n",
       "      <th>0</th>\n",
       "      <td>1</td>\n",
       "    </tr>\n",
       "    <tr>\n",
       "      <th>1</th>\n",
       "      <td>2</td>\n",
       "    </tr>\n",
       "    <tr>\n",
       "      <th>2</th>\n",
       "      <td>3</td>\n",
       "    </tr>\n",
       "  </tbody>\n",
       "</table>\n",
       "</div>"
      ],
      "text/plain": [
       "   0\n",
       "0  1\n",
       "1  2\n",
       "2  3"
      ]
     },
     "execution_count": 19,
     "metadata": {},
     "output_type": "execute_result"
    }
   ],
   "source": [
    "# 1개의 시리즈가진 데이터 프레임\n",
    "# pd.DataFrame()\n",
    "\n",
    "num_df = pd.DataFrame([1,2,3])\n",
    "num_df"
   ]
  },
  {
   "cell_type": "code",
   "execution_count": 20,
   "id": "499f4f0f",
   "metadata": {},
   "outputs": [
    {
     "data": {
      "text/html": [
       "<div>\n",
       "<style scoped>\n",
       "    .dataframe tbody tr th:only-of-type {\n",
       "        vertical-align: middle;\n",
       "    }\n",
       "\n",
       "    .dataframe tbody tr th {\n",
       "        vertical-align: top;\n",
       "    }\n",
       "\n",
       "    .dataframe thead th {\n",
       "        text-align: right;\n",
       "    }\n",
       "</style>\n",
       "<table border=\"1\" class=\"dataframe\">\n",
       "  <thead>\n",
       "    <tr style=\"text-align: right;\">\n",
       "      <th></th>\n",
       "      <th>0</th>\n",
       "      <th>1</th>\n",
       "    </tr>\n",
       "  </thead>\n",
       "  <tbody>\n",
       "    <tr>\n",
       "      <th>0</th>\n",
       "      <td>iot</td>\n",
       "      <td>1</td>\n",
       "    </tr>\n",
       "    <tr>\n",
       "      <th>1</th>\n",
       "      <td>big data</td>\n",
       "      <td>2</td>\n",
       "    </tr>\n",
       "    <tr>\n",
       "      <th>2</th>\n",
       "      <td>ai</td>\n",
       "      <td>3</td>\n",
       "    </tr>\n",
       "  </tbody>\n",
       "</table>\n",
       "</div>"
      ],
      "text/plain": [
       "          0  1\n",
       "0       iot  1\n",
       "1  big data  2\n",
       "2        ai  3"
      ]
     },
     "execution_count": 20,
     "metadata": {},
     "output_type": "execute_result"
    }
   ],
   "source": [
    "# 2중 리스트로 값을 여러개 넣는 것도 가능!\n",
    "num2_df = pd.DataFrame([['iot',1],['big data',2], ['ai',3]])\n",
    "num2_df"
   ]
  },
  {
   "cell_type": "code",
   "execution_count": 21,
   "id": "27a27f0e",
   "metadata": {},
   "outputs": [
    {
     "data": {
      "text/html": [
       "<div>\n",
       "<style scoped>\n",
       "    .dataframe tbody tr th:only-of-type {\n",
       "        vertical-align: middle;\n",
       "    }\n",
       "\n",
       "    .dataframe tbody tr th {\n",
       "        vertical-align: top;\n",
       "    }\n",
       "\n",
       "    .dataframe thead th {\n",
       "        text-align: right;\n",
       "    }\n",
       "</style>\n",
       "<table border=\"1\" class=\"dataframe\">\n",
       "  <thead>\n",
       "    <tr style=\"text-align: right;\">\n",
       "      <th></th>\n",
       "      <th>class</th>\n",
       "      <th>join</th>\n",
       "    </tr>\n",
       "  </thead>\n",
       "  <tbody>\n",
       "    <tr>\n",
       "      <th>0</th>\n",
       "      <td>iot</td>\n",
       "      <td>1</td>\n",
       "    </tr>\n",
       "    <tr>\n",
       "      <th>1</th>\n",
       "      <td>big data</td>\n",
       "      <td>2</td>\n",
       "    </tr>\n",
       "    <tr>\n",
       "      <th>2</th>\n",
       "      <td>ai</td>\n",
       "      <td>3</td>\n",
       "    </tr>\n",
       "  </tbody>\n",
       "</table>\n",
       "</div>"
      ],
      "text/plain": [
       "      class  join\n",
       "0       iot     1\n",
       "1  big data     2\n",
       "2        ai     3"
      ]
     },
     "execution_count": 21,
     "metadata": {},
     "output_type": "execute_result"
    }
   ],
   "source": [
    "# 컬럼 값 지정하기\n",
    "num2_df = pd.DataFrame([['iot',1],['big data',2], ['ai',3]], columns=['class','join'])\n",
    "num2_df"
   ]
  },
  {
   "cell_type": "code",
   "execution_count": 22,
   "id": "a9d2f2ab",
   "metadata": {},
   "outputs": [
    {
     "data": {
      "text/html": [
       "<div>\n",
       "<style scoped>\n",
       "    .dataframe tbody tr th:only-of-type {\n",
       "        vertical-align: middle;\n",
       "    }\n",
       "\n",
       "    .dataframe tbody tr th {\n",
       "        vertical-align: top;\n",
       "    }\n",
       "\n",
       "    .dataframe thead th {\n",
       "        text-align: right;\n",
       "    }\n",
       "</style>\n",
       "<table border=\"1\" class=\"dataframe\">\n",
       "  <thead>\n",
       "    <tr style=\"text-align: right;\">\n",
       "      <th></th>\n",
       "      <th>class</th>\n",
       "      <th>join</th>\n",
       "    </tr>\n",
       "  </thead>\n",
       "  <tbody>\n",
       "    <tr>\n",
       "      <th>A</th>\n",
       "      <td>iot</td>\n",
       "      <td>1</td>\n",
       "    </tr>\n",
       "    <tr>\n",
       "      <th>B</th>\n",
       "      <td>big data</td>\n",
       "      <td>2</td>\n",
       "    </tr>\n",
       "    <tr>\n",
       "      <th>C</th>\n",
       "      <td>ai</td>\n",
       "      <td>3</td>\n",
       "    </tr>\n",
       "  </tbody>\n",
       "</table>\n",
       "</div>"
      ],
      "text/plain": [
       "      class  join\n",
       "A       iot     1\n",
       "B  big data     2\n",
       "C        ai     3"
      ]
     },
     "execution_count": 22,
     "metadata": {},
     "output_type": "execute_result"
    }
   ],
   "source": [
    "# 컬럼 값 지정하기 2\n",
    "num2_df = pd.DataFrame({'class' : ['iot','big data','ai'], 'join':[1,2,3]} , index=['A','B','C'])\n",
    "num2_df"
   ]
  },
  {
   "cell_type": "code",
   "execution_count": 23,
   "id": "db74f2a7",
   "metadata": {},
   "outputs": [
    {
     "data": {
      "text/html": [
       "<div>\n",
       "<style scoped>\n",
       "    .dataframe tbody tr th:only-of-type {\n",
       "        vertical-align: middle;\n",
       "    }\n",
       "\n",
       "    .dataframe tbody tr th {\n",
       "        vertical-align: top;\n",
       "    }\n",
       "\n",
       "    .dataframe thead th {\n",
       "        text-align: right;\n",
       "    }\n",
       "</style>\n",
       "<table border=\"1\" class=\"dataframe\">\n",
       "  <thead>\n",
       "    <tr style=\"text-align: right;\">\n",
       "      <th></th>\n",
       "      <th>키</th>\n",
       "      <th>몸무게</th>\n",
       "      <th>나이</th>\n",
       "    </tr>\n",
       "  </thead>\n",
       "  <tbody>\n",
       "    <tr>\n",
       "      <th>son</th>\n",
       "      <td>175.3</td>\n",
       "      <td>66.2</td>\n",
       "      <td>27.0</td>\n",
       "    </tr>\n",
       "    <tr>\n",
       "      <th>kim</th>\n",
       "      <td>180.2</td>\n",
       "      <td>78.9</td>\n",
       "      <td>49.0</td>\n",
       "    </tr>\n",
       "    <tr>\n",
       "      <th>park</th>\n",
       "      <td>178.6</td>\n",
       "      <td>55.1</td>\n",
       "      <td>35.0</td>\n",
       "    </tr>\n",
       "  </tbody>\n",
       "</table>\n",
       "</div>"
      ],
      "text/plain": [
       "          키   몸무게    나이\n",
       "son   175.3  66.2  27.0\n",
       "kim   180.2  78.9  49.0\n",
       "park  178.6  55.1  35.0"
      ]
     },
     "execution_count": 23,
     "metadata": {},
     "output_type": "execute_result"
    }
   ],
   "source": [
    "info = pd.DataFrame({'키':[175.3,180.2,178.6], '몸무게':[66.2,78.9,55.1], '나이':[27.0,49.0,35.0]}, index=['son','kim','park'])\n",
    "info"
   ]
  },
  {
   "cell_type": "code",
   "execution_count": 24,
   "id": "1fbab06e",
   "metadata": {},
   "outputs": [
    {
     "data": {
      "text/html": [
       "<div>\n",
       "<style scoped>\n",
       "    .dataframe tbody tr th:only-of-type {\n",
       "        vertical-align: middle;\n",
       "    }\n",
       "\n",
       "    .dataframe tbody tr th {\n",
       "        vertical-align: top;\n",
       "    }\n",
       "\n",
       "    .dataframe thead th {\n",
       "        text-align: right;\n",
       "    }\n",
       "</style>\n",
       "<table border=\"1\" class=\"dataframe\">\n",
       "  <thead>\n",
       "    <tr style=\"text-align: right;\">\n",
       "      <th></th>\n",
       "      <th>son</th>\n",
       "      <th>kim</th>\n",
       "      <th>park</th>\n",
       "    </tr>\n",
       "  </thead>\n",
       "  <tbody>\n",
       "    <tr>\n",
       "      <th>키</th>\n",
       "      <td>175.3</td>\n",
       "      <td>180.2</td>\n",
       "      <td>178.6</td>\n",
       "    </tr>\n",
       "    <tr>\n",
       "      <th>몸무게</th>\n",
       "      <td>66.2</td>\n",
       "      <td>78.9</td>\n",
       "      <td>55.1</td>\n",
       "    </tr>\n",
       "    <tr>\n",
       "      <th>나이</th>\n",
       "      <td>27.0</td>\n",
       "      <td>49.0</td>\n",
       "      <td>35.0</td>\n",
       "    </tr>\n",
       "  </tbody>\n",
       "</table>\n",
       "</div>"
      ],
      "text/plain": [
       "       son    kim   park\n",
       "키    175.3  180.2  178.6\n",
       "몸무게   66.2   78.9   55.1\n",
       "나이    27.0   49.0   35.0"
      ]
     },
     "execution_count": 24,
     "metadata": {},
     "output_type": "execute_result"
    }
   ],
   "source": [
    "# 속성 확인\n",
    "# T --> 행, 렬 전환\n",
    "info.T"
   ]
  },
  {
   "cell_type": "code",
   "execution_count": 25,
   "id": "6f5ac441",
   "metadata": {},
   "outputs": [
    {
     "data": {
      "text/html": [
       "<div>\n",
       "<style scoped>\n",
       "    .dataframe tbody tr th:only-of-type {\n",
       "        vertical-align: middle;\n",
       "    }\n",
       "\n",
       "    .dataframe tbody tr th {\n",
       "        vertical-align: top;\n",
       "    }\n",
       "\n",
       "    .dataframe thead th {\n",
       "        text-align: right;\n",
       "    }\n",
       "</style>\n",
       "<table border=\"1\" class=\"dataframe\">\n",
       "  <thead>\n",
       "    <tr style=\"text-align: right;\">\n",
       "      <th></th>\n",
       "      <th>키</th>\n",
       "      <th>몸무게</th>\n",
       "      <th>나이</th>\n",
       "    </tr>\n",
       "  </thead>\n",
       "  <tbody>\n",
       "    <tr>\n",
       "      <th>son</th>\n",
       "      <td>175.3</td>\n",
       "      <td>66.2</td>\n",
       "      <td>27.0</td>\n",
       "    </tr>\n",
       "    <tr>\n",
       "      <th>kim</th>\n",
       "      <td>180.2</td>\n",
       "      <td>78.9</td>\n",
       "      <td>49.0</td>\n",
       "    </tr>\n",
       "    <tr>\n",
       "      <th>park</th>\n",
       "      <td>178.6</td>\n",
       "      <td>55.1</td>\n",
       "      <td>35.0</td>\n",
       "    </tr>\n",
       "  </tbody>\n",
       "</table>\n",
       "</div>"
      ],
      "text/plain": [
       "          키   몸무게    나이\n",
       "son   175.3  66.2  27.0\n",
       "kim   180.2  78.9  49.0\n",
       "park  178.6  55.1  35.0"
      ]
     },
     "metadata": {},
     "output_type": "display_data"
    },
    {
     "data": {
      "text/plain": [
       "array([[175.3,  66.2,  27. ],\n",
       "       [180.2,  78.9,  49. ],\n",
       "       [178.6,  55.1,  35. ]])"
      ]
     },
     "execution_count": 25,
     "metadata": {},
     "output_type": "execute_result"
    }
   ],
   "source": [
    "# values = df value\n",
    "display(info)\n",
    "info.values"
   ]
  },
  {
   "cell_type": "code",
   "execution_count": 26,
   "id": "c3d06b08",
   "metadata": {},
   "outputs": [
    {
     "data": {
      "text/plain": [
       "Index(['son', 'kim', 'park'], dtype='object')"
      ]
     },
     "execution_count": 26,
     "metadata": {},
     "output_type": "execute_result"
    }
   ],
   "source": [
    "# index - df index\n",
    "info.index"
   ]
  },
  {
   "cell_type": "code",
   "execution_count": 27,
   "id": "be11eb30",
   "metadata": {},
   "outputs": [
    {
     "data": {
      "text/plain": [
       "Index(['키', '몸무게', '나이'], dtype='object')"
      ]
     },
     "execution_count": 27,
     "metadata": {},
     "output_type": "execute_result"
    }
   ],
   "source": [
    "# columns - df의 column\n",
    "info.columns"
   ]
  },
  {
   "cell_type": "code",
   "execution_count": 36,
   "id": "dcc88f48",
   "metadata": {},
   "outputs": [],
   "source": [
    "population = pd.Series([9602000,3344000,1488000,2419000], index = ['서울','부산','광주','대구'])\n",
    "population.index.name = '도시'\n",
    "population.name = '2020 인구수'"
   ]
  },
  {
   "cell_type": "code",
   "execution_count": 28,
   "id": "f1b30a03",
   "metadata": {},
   "outputs": [],
   "source": [
    "# 시리즈 , dataframe 인덱싱/ 슬라이싱"
   ]
  },
  {
   "cell_type": "code",
   "execution_count": 37,
   "id": "29c7d2e7",
   "metadata": {},
   "outputs": [
    {
     "data": {
      "text/plain": [
       "1488000"
      ]
     },
     "execution_count": 37,
     "metadata": {},
     "output_type": "execute_result"
    }
   ],
   "source": [
    "# 인덱싱 방법 -- 1 인덱스 번호로 접근\n",
    "population[0]\n",
    "population[2]"
   ]
  },
  {
   "cell_type": "code",
   "execution_count": 38,
   "id": "e46f66df",
   "metadata": {},
   "outputs": [
    {
     "data": {
      "text/plain": [
       "3344000"
      ]
     },
     "execution_count": 38,
     "metadata": {},
     "output_type": "execute_result"
    }
   ],
   "source": [
    "# 인덱싱 방법 -- 2. 인덱스 이름으로 접근\n",
    "population['부산']"
   ]
  },
  {
   "cell_type": "code",
   "execution_count": 39,
   "id": "639575cc",
   "metadata": {},
   "outputs": [
    {
     "data": {
      "text/plain": [
       "도시\n",
       "서울    9602000\n",
       "광주    1488000\n",
       "Name: 2020 인구수, dtype: int64"
      ]
     },
     "execution_count": 39,
     "metadata": {},
     "output_type": "execute_result"
    }
   ],
   "source": [
    "# 여러개의 값을 인덱싱\n",
    "# 인덱스 번호로 접근 -- 서울, 대구\n",
    "population[[0,2]]"
   ]
  },
  {
   "cell_type": "code",
   "execution_count": 40,
   "id": "766d8874",
   "metadata": {},
   "outputs": [
    {
     "data": {
      "text/plain": [
       "도시\n",
       "부산    3344000\n",
       "광주    1488000\n",
       "Name: 2020 인구수, dtype: int64"
      ]
     },
     "execution_count": 40,
     "metadata": {},
     "output_type": "execute_result"
    }
   ],
   "source": [
    "# 2. 인덱스 이름으로 접근\n",
    "population[['부산','광주']]"
   ]
  },
  {
   "cell_type": "code",
   "execution_count": 41,
   "id": "8dc93fc3",
   "metadata": {},
   "outputs": [
    {
     "data": {
      "text/plain": [
       "도시\n",
       "서울    9602000\n",
       "부산    3344000\n",
       "대구    2419000\n",
       "Name: 2020 인구수, dtype: int64"
      ]
     },
     "execution_count": 41,
     "metadata": {},
     "output_type": "execute_result"
    }
   ],
   "source": [
    "# 불리언 인덱싱 -- 조건을 작성\n",
    "population[population>2000000]"
   ]
  },
  {
   "cell_type": "code",
   "execution_count": 42,
   "id": "653806ca",
   "metadata": {},
   "outputs": [
    {
     "data": {
      "text/plain": [
       "도시\n",
       "부산    3344000\n",
       "광주    1488000\n",
       "Name: 2020 인구수, dtype: int64"
      ]
     },
     "metadata": {},
     "output_type": "display_data"
    }
   ],
   "source": [
    "# 시리즈 - 슬라이싱\n",
    "# 인덱싱 - 인덱스 번호, 이름으로 접근하는 방법\n",
    "# 인덱스 번호로 슬라이싱\n",
    "display(population[1:3]) # 끝수는 포함 안됨\n",
    "\n",
    "\n",
    "\n",
    "\n"
   ]
  },
  {
   "cell_type": "code",
   "execution_count": 45,
   "id": "158c9c2a",
   "metadata": {},
   "outputs": [
    {
     "data": {
      "text/plain": [
       "도시\n",
       "서울    9602000\n",
       "부산    3344000\n",
       "광주    1488000\n",
       "Name: 2020 인구수, dtype: int64"
      ]
     },
     "metadata": {},
     "output_type": "display_data"
    },
    {
     "data": {
      "text/plain": [
       "도시\n",
       "서울    9602000\n",
       "부산    3344000\n",
       "광주    1488000\n",
       "Name: 2020 인구수, dtype: int64"
      ]
     },
     "metadata": {},
     "output_type": "display_data"
    },
    {
     "data": {
      "text/plain": [
       "도시\n",
       "부산    3344000\n",
       "광주    1488000\n",
       "대구    2419000\n",
       "Name: 2020 인구수, dtype: int64"
      ]
     },
     "metadata": {},
     "output_type": "display_data"
    },
    {
     "data": {
      "text/plain": [
       "도시\n",
       "서울    9602000\n",
       "부산    3344000\n",
       "광주    1488000\n",
       "대구    2419000\n",
       "Name: 2020 인구수, dtype: int64"
      ]
     },
     "metadata": {},
     "output_type": "display_data"
    }
   ],
   "source": [
    "# 인덱스 이름으로 접근\n",
    "display(population['서울':'광주'])\n",
    "display(population[:'광주'])\n",
    "display(population['부산':])\n",
    "display(population[:])"
   ]
  },
  {
   "cell_type": "code",
   "execution_count": 46,
   "id": "dc720c3a",
   "metadata": {},
   "outputs": [
    {
     "data": {
      "text/plain": [
       "son     175.3\n",
       "kim     180.2\n",
       "park    178.6\n",
       "Name: 키, dtype: float64"
      ]
     },
     "execution_count": 46,
     "metadata": {},
     "output_type": "execute_result"
    }
   ],
   "source": [
    "# 열 접근 - 컬럼명을 인덱싱\n",
    "info['키']"
   ]
  },
  {
   "cell_type": "code",
   "execution_count": 47,
   "id": "462fdf5f",
   "metadata": {},
   "outputs": [
    {
     "data": {
      "text/html": [
       "<div>\n",
       "<style scoped>\n",
       "    .dataframe tbody tr th:only-of-type {\n",
       "        vertical-align: middle;\n",
       "    }\n",
       "\n",
       "    .dataframe tbody tr th {\n",
       "        vertical-align: top;\n",
       "    }\n",
       "\n",
       "    .dataframe thead th {\n",
       "        text-align: right;\n",
       "    }\n",
       "</style>\n",
       "<table border=\"1\" class=\"dataframe\">\n",
       "  <thead>\n",
       "    <tr style=\"text-align: right;\">\n",
       "      <th></th>\n",
       "      <th>키</th>\n",
       "      <th>나이</th>\n",
       "    </tr>\n",
       "  </thead>\n",
       "  <tbody>\n",
       "    <tr>\n",
       "      <th>son</th>\n",
       "      <td>175.3</td>\n",
       "      <td>27.0</td>\n",
       "    </tr>\n",
       "    <tr>\n",
       "      <th>kim</th>\n",
       "      <td>180.2</td>\n",
       "      <td>49.0</td>\n",
       "    </tr>\n",
       "    <tr>\n",
       "      <th>park</th>\n",
       "      <td>178.6</td>\n",
       "      <td>35.0</td>\n",
       "    </tr>\n",
       "  </tbody>\n",
       "</table>\n",
       "</div>"
      ],
      "text/plain": [
       "          키    나이\n",
       "son   175.3  27.0\n",
       "kim   180.2  49.0\n",
       "park  178.6  35.0"
      ]
     },
     "execution_count": 47,
     "metadata": {},
     "output_type": "execute_result"
    }
   ],
   "source": [
    "# 열접근 - 여러가지 열 접근\n",
    "info[['키','나이']]"
   ]
  },
  {
   "cell_type": "code",
   "execution_count": 48,
   "id": "63f8f1d6",
   "metadata": {},
   "outputs": [
    {
     "data": {
      "text/html": [
       "<div>\n",
       "<style scoped>\n",
       "    .dataframe tbody tr th:only-of-type {\n",
       "        vertical-align: middle;\n",
       "    }\n",
       "\n",
       "    .dataframe tbody tr th {\n",
       "        vertical-align: top;\n",
       "    }\n",
       "\n",
       "    .dataframe thead th {\n",
       "        text-align: right;\n",
       "    }\n",
       "</style>\n",
       "<table border=\"1\" class=\"dataframe\">\n",
       "  <thead>\n",
       "    <tr style=\"text-align: right;\">\n",
       "      <th></th>\n",
       "      <th>키</th>\n",
       "      <th>몸무게</th>\n",
       "      <th>나이</th>\n",
       "    </tr>\n",
       "  </thead>\n",
       "  <tbody>\n",
       "    <tr>\n",
       "      <th>son</th>\n",
       "      <td>175.3</td>\n",
       "      <td>66.2</td>\n",
       "      <td>27.0</td>\n",
       "    </tr>\n",
       "  </tbody>\n",
       "</table>\n",
       "</div>"
      ],
      "text/plain": [
       "         키   몸무게    나이\n",
       "son  175.3  66.2  27.0"
      ]
     },
     "execution_count": 48,
     "metadata": {},
     "output_type": "execute_result"
    }
   ],
   "source": [
    "# 행 접근 슬라이싱을 통해 접근 가능\n",
    "info[:1]"
   ]
  },
  {
   "cell_type": "code",
   "execution_count": 50,
   "id": "2a3d71f4",
   "metadata": {},
   "outputs": [
    {
     "data": {
      "text/html": [
       "<div>\n",
       "<style scoped>\n",
       "    .dataframe tbody tr th:only-of-type {\n",
       "        vertical-align: middle;\n",
       "    }\n",
       "\n",
       "    .dataframe tbody tr th {\n",
       "        vertical-align: top;\n",
       "    }\n",
       "\n",
       "    .dataframe thead th {\n",
       "        text-align: right;\n",
       "    }\n",
       "</style>\n",
       "<table border=\"1\" class=\"dataframe\">\n",
       "  <thead>\n",
       "    <tr style=\"text-align: right;\">\n",
       "      <th></th>\n",
       "      <th>키</th>\n",
       "      <th>몸무게</th>\n",
       "      <th>나이</th>\n",
       "    </tr>\n",
       "  </thead>\n",
       "  <tbody>\n",
       "    <tr>\n",
       "      <th>son</th>\n",
       "      <td>175.3</td>\n",
       "      <td>66.2</td>\n",
       "      <td>27.0</td>\n",
       "    </tr>\n",
       "    <tr>\n",
       "      <th>kim</th>\n",
       "      <td>180.2</td>\n",
       "      <td>78.9</td>\n",
       "      <td>49.0</td>\n",
       "    </tr>\n",
       "  </tbody>\n",
       "</table>\n",
       "</div>"
      ],
      "text/plain": [
       "         키   몸무게    나이\n",
       "son  175.3  66.2  27.0\n",
       "kim  180.2  78.9  49.0"
      ]
     },
     "execution_count": 50,
     "metadata": {},
     "output_type": "execute_result"
    }
   ],
   "source": [
    "info[:'kim']"
   ]
  },
  {
   "cell_type": "code",
   "execution_count": 51,
   "id": "1c76b477",
   "metadata": {},
   "outputs": [
    {
     "data": {
      "text/plain": [
       "son    66.2\n",
       "Name: 몸무게, dtype: float64"
      ]
     },
     "execution_count": 51,
     "metadata": {},
     "output_type": "execute_result"
    }
   ],
   "source": [
    "info[:1]['몸무게']"
   ]
  },
  {
   "cell_type": "markdown",
   "id": "c3a858a1",
   "metadata": {},
   "source": [
    "# loc, iloc 인덱서"
   ]
  },
  {
   "cell_type": "markdown",
   "id": "d435ffbf",
   "metadata": {},
   "source": [
    "- 데이터 프레임의 행, 열에 접근을 더 편리하게 하기 위해 등장\n",
    "- loc, iloc\n",
    "- loc : 컬럼이름(라벨)명을 통해 데이터 접근하는 방법\n",
    "- iloc : 컬럼의 인덱스 접근을 통해 데이터 접근\n",
    "- .loc(or iloc)[행,열]\n",
    "    - 결국 인덱싱 슬라이싱의 규칙을 그대로 적용"
   ]
  },
  {
   "cell_type": "code",
   "execution_count": null,
   "id": "d6d9f7be",
   "metadata": {},
   "outputs": [],
   "source": [
    "# loc[행, 열] 인덱스 값으로 접근"
   ]
  },
  {
   "cell_type": "code",
   "execution_count": 53,
   "id": "496fb304",
   "metadata": {},
   "outputs": [
    {
     "data": {
      "text/plain": [
       "키      175.3\n",
       "몸무게     66.2\n",
       "나이      27.0\n",
       "Name: son, dtype: float64"
      ]
     },
     "execution_count": 53,
     "metadata": {},
     "output_type": "execute_result"
    }
   ],
   "source": [
    "info.loc['son']"
   ]
  },
  {
   "cell_type": "code",
   "execution_count": 54,
   "id": "a8583aff",
   "metadata": {},
   "outputs": [
    {
     "data": {
      "text/plain": [
       "27.0"
      ]
     },
     "execution_count": 54,
     "metadata": {},
     "output_type": "execute_result"
    }
   ],
   "source": [
    "info.loc['son','나이']"
   ]
  },
  {
   "cell_type": "code",
   "execution_count": 55,
   "id": "366aa240",
   "metadata": {},
   "outputs": [
    {
     "data": {
      "text/plain": [
       "키     175.3\n",
       "나이     27.0\n",
       "Name: son, dtype: float64"
      ]
     },
     "execution_count": 55,
     "metadata": {},
     "output_type": "execute_result"
    }
   ],
   "source": [
    "# 여러값 접근\n",
    "info.loc['son',['키','나이']]"
   ]
  },
  {
   "cell_type": "code",
   "execution_count": 58,
   "id": "362f0c12",
   "metadata": {},
   "outputs": [
    {
     "data": {
      "text/plain": [
       "키     175.3\n",
       "나이     27.0\n",
       "Name: son, dtype: float64"
      ]
     },
     "execution_count": 58,
     "metadata": {},
     "output_type": "execute_result"
    }
   ],
   "source": [
    "# 여러값 접근2\n",
    "info.loc['son',::2]"
   ]
  },
  {
   "cell_type": "code",
   "execution_count": 59,
   "id": "48493715",
   "metadata": {},
   "outputs": [
    {
     "data": {
      "text/plain": [
       "키      175.3\n",
       "몸무게     66.2\n",
       "나이      27.0\n",
       "Name: son, dtype: float64"
      ]
     },
     "execution_count": 59,
     "metadata": {},
     "output_type": "execute_result"
    }
   ],
   "source": [
    "# iloc - 인덱스 번호로 접근\n",
    "info.iloc[0] # == info.loc['son']"
   ]
  },
  {
   "cell_type": "code",
   "execution_count": 60,
   "id": "dacd1e27",
   "metadata": {},
   "outputs": [
    {
     "data": {
      "text/plain": [
       "27.0"
      ]
     },
     "execution_count": 60,
     "metadata": {},
     "output_type": "execute_result"
    }
   ],
   "source": [
    "# info.loc['son','나이']\n",
    "info.iloc[0,2]"
   ]
  },
  {
   "cell_type": "code",
   "execution_count": 61,
   "id": "89ee2e21",
   "metadata": {},
   "outputs": [
    {
     "data": {
      "text/plain": [
       "키     175.3\n",
       "나이     27.0\n",
       "Name: son, dtype: float64"
      ]
     },
     "execution_count": 61,
     "metadata": {},
     "output_type": "execute_result"
    }
   ],
   "source": [
    "# 여러값 접근\n",
    "# info.loc['son'.['키','나이']]\n",
    "info.iloc[0,[0,2]]"
   ]
  },
  {
   "cell_type": "code",
   "execution_count": 62,
   "id": "725856ad",
   "metadata": {},
   "outputs": [
    {
     "data": {
      "text/plain": [
       "키     175.3\n",
       "나이     27.0\n",
       "Name: son, dtype: float64"
      ]
     },
     "execution_count": 62,
     "metadata": {},
     "output_type": "execute_result"
    }
   ],
   "source": [
    "# 여러값 접근2\n",
    "# info.loc['son',::2]\n",
    "info.iloc[0,::2]"
   ]
  },
  {
   "cell_type": "markdown",
   "id": "30a33ae2",
   "metadata": {},
   "source": [
    "# 불리언 인덱싱"
   ]
  },
  {
   "cell_type": "code",
   "execution_count": 63,
   "id": "97495eca",
   "metadata": {},
   "outputs": [
    {
     "data": {
      "text/html": [
       "<div>\n",
       "<style scoped>\n",
       "    .dataframe tbody tr th:only-of-type {\n",
       "        vertical-align: middle;\n",
       "    }\n",
       "\n",
       "    .dataframe tbody tr th {\n",
       "        vertical-align: top;\n",
       "    }\n",
       "\n",
       "    .dataframe thead th {\n",
       "        text-align: right;\n",
       "    }\n",
       "</style>\n",
       "<table border=\"1\" class=\"dataframe\">\n",
       "  <thead>\n",
       "    <tr style=\"text-align: right;\">\n",
       "      <th></th>\n",
       "      <th>키</th>\n",
       "      <th>몸무게</th>\n",
       "      <th>나이</th>\n",
       "    </tr>\n",
       "  </thead>\n",
       "  <tbody>\n",
       "    <tr>\n",
       "      <th>son</th>\n",
       "      <td>175.3</td>\n",
       "      <td>66.2</td>\n",
       "      <td>27.0</td>\n",
       "    </tr>\n",
       "    <tr>\n",
       "      <th>kim</th>\n",
       "      <td>180.2</td>\n",
       "      <td>78.9</td>\n",
       "      <td>49.0</td>\n",
       "    </tr>\n",
       "    <tr>\n",
       "      <th>park</th>\n",
       "      <td>178.6</td>\n",
       "      <td>55.1</td>\n",
       "      <td>35.0</td>\n",
       "    </tr>\n",
       "  </tbody>\n",
       "</table>\n",
       "</div>"
      ],
      "text/plain": [
       "          키   몸무게    나이\n",
       "son   175.3  66.2  27.0\n",
       "kim   180.2  78.9  49.0\n",
       "park  178.6  55.1  35.0"
      ]
     },
     "execution_count": 63,
     "metadata": {},
     "output_type": "execute_result"
    }
   ],
   "source": [
    "info"
   ]
  },
  {
   "cell_type": "code",
   "execution_count": 64,
   "id": "aa0f1a28",
   "metadata": {},
   "outputs": [
    {
     "data": {
      "text/html": [
       "<div>\n",
       "<style scoped>\n",
       "    .dataframe tbody tr th:only-of-type {\n",
       "        vertical-align: middle;\n",
       "    }\n",
       "\n",
       "    .dataframe tbody tr th {\n",
       "        vertical-align: top;\n",
       "    }\n",
       "\n",
       "    .dataframe thead th {\n",
       "        text-align: right;\n",
       "    }\n",
       "</style>\n",
       "<table border=\"1\" class=\"dataframe\">\n",
       "  <thead>\n",
       "    <tr style=\"text-align: right;\">\n",
       "      <th></th>\n",
       "      <th>키</th>\n",
       "      <th>몸무게</th>\n",
       "      <th>나이</th>\n",
       "    </tr>\n",
       "  </thead>\n",
       "  <tbody>\n",
       "    <tr>\n",
       "      <th>kim</th>\n",
       "      <td>180.2</td>\n",
       "      <td>78.9</td>\n",
       "      <td>49.0</td>\n",
       "    </tr>\n",
       "  </tbody>\n",
       "</table>\n",
       "</div>"
      ],
      "text/plain": [
       "         키   몸무게    나이\n",
       "kim  180.2  78.9  49.0"
      ]
     },
     "execution_count": 64,
     "metadata": {},
     "output_type": "execute_result"
    }
   ],
   "source": [
    "info[info['키']>180]"
   ]
  },
  {
   "cell_type": "code",
   "execution_count": 65,
   "id": "85e21224",
   "metadata": {},
   "outputs": [
    {
     "data": {
      "text/html": [
       "<div>\n",
       "<style scoped>\n",
       "    .dataframe tbody tr th:only-of-type {\n",
       "        vertical-align: middle;\n",
       "    }\n",
       "\n",
       "    .dataframe tbody tr th {\n",
       "        vertical-align: top;\n",
       "    }\n",
       "\n",
       "    .dataframe thead th {\n",
       "        text-align: right;\n",
       "    }\n",
       "</style>\n",
       "<table border=\"1\" class=\"dataframe\">\n",
       "  <thead>\n",
       "    <tr style=\"text-align: right;\">\n",
       "      <th></th>\n",
       "      <th>키</th>\n",
       "      <th>몸무게</th>\n",
       "      <th>나이</th>\n",
       "    </tr>\n",
       "  </thead>\n",
       "  <tbody>\n",
       "    <tr>\n",
       "      <th>kim</th>\n",
       "      <td>180.2</td>\n",
       "      <td>78.9</td>\n",
       "      <td>49.0</td>\n",
       "    </tr>\n",
       "  </tbody>\n",
       "</table>\n",
       "</div>"
      ],
      "text/plain": [
       "         키   몸무게    나이\n",
       "kim  180.2  78.9  49.0"
      ]
     },
     "execution_count": 65,
     "metadata": {},
     "output_type": "execute_result"
    }
   ],
   "source": [
    "# .query() -- 불리언 인덱싱을 도와주는 함수\n",
    "# 매개변수에 조건을 문자열로 작성\n",
    "info.query('키 > 180')"
   ]
  },
  {
   "cell_type": "code",
   "execution_count": 66,
   "id": "e0b4021c",
   "metadata": {},
   "outputs": [
    {
     "data": {
      "text/html": [
       "<div>\n",
       "<style scoped>\n",
       "    .dataframe tbody tr th:only-of-type {\n",
       "        vertical-align: middle;\n",
       "    }\n",
       "\n",
       "    .dataframe tbody tr th {\n",
       "        vertical-align: top;\n",
       "    }\n",
       "\n",
       "    .dataframe thead th {\n",
       "        text-align: right;\n",
       "    }\n",
       "</style>\n",
       "<table border=\"1\" class=\"dataframe\">\n",
       "  <thead>\n",
       "    <tr style=\"text-align: right;\">\n",
       "      <th></th>\n",
       "      <th>키</th>\n",
       "      <th>몸무게</th>\n",
       "      <th>나이</th>\n",
       "    </tr>\n",
       "  </thead>\n",
       "  <tbody>\n",
       "    <tr>\n",
       "      <th>kim</th>\n",
       "      <td>180.2</td>\n",
       "      <td>78.9</td>\n",
       "      <td>49.0</td>\n",
       "    </tr>\n",
       "  </tbody>\n",
       "</table>\n",
       "</div>"
      ],
      "text/plain": [
       "         키   몸무게    나이\n",
       "kim  180.2  78.9  49.0"
      ]
     },
     "execution_count": 66,
     "metadata": {},
     "output_type": "execute_result"
    }
   ],
   "source": [
    "# loc 인덱서 사용해서 불리언 인덱싱\n",
    "info.loc[info['키']>180]"
   ]
  },
  {
   "cell_type": "code",
   "execution_count": null,
   "id": "fcf4c13c",
   "metadata": {},
   "outputs": [],
   "source": []
  },
  {
   "cell_type": "code",
   "execution_count": null,
   "id": "de66a6b0",
   "metadata": {},
   "outputs": [],
   "source": []
  },
  {
   "cell_type": "code",
   "execution_count": null,
   "id": "6dfebafc",
   "metadata": {},
   "outputs": [],
   "source": []
  }
 ],
 "metadata": {
  "kernelspec": {
   "display_name": "Python 3 (ipykernel)",
   "language": "python",
   "name": "python3"
  },
  "language_info": {
   "codemirror_mode": {
    "name": "ipython",
    "version": 3
   },
   "file_extension": ".py",
   "mimetype": "text/x-python",
   "name": "python",
   "nbconvert_exporter": "python",
   "pygments_lexer": "ipython3",
   "version": "3.11.5"
  }
 },
 "nbformat": 4,
 "nbformat_minor": 5
}
