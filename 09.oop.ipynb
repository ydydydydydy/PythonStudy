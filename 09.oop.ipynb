{
 "cells": [
  {
   "cell_type": "code",
   "execution_count": 1,
   "id": "37205171",
   "metadata": {},
   "outputs": [],
   "source": [
    "#상속\n",
    "#기존에 작성된 상위클래스(슈퍼클래스, 부모클래스)의 변수와 함수를\n",
    "#그대로 이어받아 하위클래스(서브클래스, 자식클래스)생성\n",
    "\n",
    "# 상속의 장점 재사용성, 확장\n",
    "\n",
    "#상위클래스(슈퍼클래스, 부모클래스)\n",
    "class ParentsStore:\n",
    "    #필드\n",
    "    price = 0\n",
    "    food = ''\n",
    "    \n",
    "    #함수\n",
    "    def makeGalbi(self):\n",
    "        print('송정떡갈비를 만듭니다.')\n"
   ]
  },
  {
   "cell_type": "code",
   "execution_count": 2,
   "id": "179d0a98",
   "metadata": {},
   "outputs": [],
   "source": [
    "#하위 클래스(서브클래스, 자식클래스)\n",
    "#상속 문법\n",
    "# ㄴ class 클래스명(부모클래스명):\n",
    "class ChildStore(ParentsStore):\n",
    "    def makeRoze(self):\n",
    "        print('로제떡갈비를 만듭니다')"
   ]
  },
  {
   "cell_type": "code",
   "execution_count": 3,
   "id": "66123d7f",
   "metadata": {},
   "outputs": [
    {
     "name": "stdout",
     "output_type": "stream",
     "text": [
      "송정떡갈비를 만듭니다.\n"
     ]
    }
   ],
   "source": [
    "#객체 생성\n",
    "#부모클래스 객체 생성\n",
    "parents = ParentsStore()\n",
    "parents.price = 12000\n",
    "parents.makeGalbi()"
   ]
  },
  {
   "cell_type": "code",
   "execution_count": 5,
   "id": "222dc8dd",
   "metadata": {},
   "outputs": [
    {
     "name": "stdout",
     "output_type": "stream",
     "text": [
      "송정떡갈비를 만듭니다.\n",
      "20000\n"
     ]
    }
   ],
   "source": [
    "#자식클래스 객체 생성\n",
    "child = ChildStore()\n",
    "child.makeGalbi()\n",
    "child.price = 20000\n",
    "print(child.price)"
   ]
  },
  {
   "cell_type": "code",
   "execution_count": null,
   "id": "8231a657",
   "metadata": {},
   "outputs": [],
   "source": [
    "#다형성 - 같은 메소드를 호출하더라도 객체에 따라 다르게 동작하는것\n",
    "# 상위클래스의 함수를 하위클래스에서 다시 정의 하는것을 - 오버라이딩 "
   ]
  },
  {
   "cell_type": "code",
   "execution_count": 6,
   "id": "74e80f98",
   "metadata": {},
   "outputs": [],
   "source": [
    "class ChildStore2(ParentsStore):\n",
    "    \n",
    "    #parentsStore가 가지고 있는 필드와 메소드 사용\n",
    "    \n",
    "    #둘째는 기존 떡갈비를 리뉴얼 하고 싶어한다...\n",
    "    def makeGalbi(self):\n",
    "        print('리뉴얼된 떡갈비를 만듭니다.')\n",
    "    "
   ]
  },
  {
   "cell_type": "code",
   "execution_count": 7,
   "id": "089dc679",
   "metadata": {},
   "outputs": [
    {
     "name": "stdout",
     "output_type": "stream",
     "text": [
      "리뉴얼된 떡갈비를 만듭니다.\n"
     ]
    }
   ],
   "source": [
    "child2 = ChildStore2()\n",
    "child2.makeGalbi()"
   ]
  },
  {
   "cell_type": "code",
   "execution_count": 15,
   "id": "c18afa8f",
   "metadata": {},
   "outputs": [],
   "source": [
    "class Animal:\n",
    "    name = ''\n",
    "#파이썬의 접근제한자 \n",
    "#2가지\n",
    "#1. public - 공공의 접근이 매우 용이\n",
    "#파이썬의 접근제한자 미작성시 - public\n",
    "#2. private - 개인의 --접근이 매우 한정적\n",
    "# 해당 클래스가 아닌 곳에서 접근 X\n",
    "# 파이썬 private는 __(double underbar) -- 맹글링\n",
    "#맹글링의 역할 - 외부에서 접근을 어렵게막아 실수를 방지\n",
    "    #맹글링을 사용한 age 라는 변수 \n",
    "    __age = 0\n",
    "    \n",
    "    #외부로부터 공개된(public) 메소드로 접근이 가능\n",
    "    def getAge(self):\n",
    "        return self.__age\n",
    "    \n",
    "    def setAge(self,age):\n",
    "        self.__age = age"
   ]
  },
  {
   "cell_type": "code",
   "execution_count": 16,
   "id": "d18086b1",
   "metadata": {},
   "outputs": [
    {
     "name": "stdout",
     "output_type": "stream",
     "text": [
      "동물\n",
      "10\n"
     ]
    }
   ],
   "source": [
    "animal = Animal()\n",
    "animal.name= '동물'\n",
    "print(animal.name)\n",
    "animal.setAge(10)\n",
    "print(animal.getAge())"
   ]
  },
  {
   "cell_type": "code",
   "execution_count": 17,
   "id": "e47a8abd",
   "metadata": {},
   "outputs": [],
   "source": [
    "#추상화 - abstract\n",
    "#공통된 속성, 행위 (변수, 함수) 추출 상세한 정보는 무시\n",
    "from abc import ABC, abstractmethod\n",
    "\n",
    "class Animal(ABC):\n",
    "    #absctrct class ->추상클래스 :공통된 속성, 행위를 가진 클래스\n",
    "    #추상클래스에서 공통된 함수 -> 추상메소드\n",
    "    @abstractmethod\n",
    "    def bark(self):\n",
    "        pass\n",
    "    #추상메소드의 특징 \n",
    "    # 안에 내용이 없습니다. pass 키워드 \n",
    "    # 상속받은 하위클래스에서 \"\"\"반드시\"\"\" 구현해야하는 메소드\n",
    "    # --> 기능재정의 오버라이딩 "
   ]
  },
  {
   "cell_type": "code",
   "execution_count": 20,
   "id": "544931ee",
   "metadata": {},
   "outputs": [],
   "source": [
    "class Dog(Animal):\n",
    "    def walk(self):\n",
    "        print('걷습니다!')\n",
    "        \n",
    "    #오버라이딩 조건 : 메소드 이름 같고 매개변수 같고 리턴타입 같아야합니다\n",
    "    def bark(self):\n",
    "        print('멍멍')"
   ]
  },
  {
   "cell_type": "code",
   "execution_count": 21,
   "id": "d8faccad",
   "metadata": {},
   "outputs": [
    {
     "name": "stdout",
     "output_type": "stream",
     "text": [
      "멍멍\n"
     ]
    }
   ],
   "source": [
    "#객체 생성\n",
    "dodam = Dog()\n",
    "dodam.bark()"
   ]
  },
  {
   "cell_type": "code",
   "execution_count": null,
   "id": "a7a73893",
   "metadata": {},
   "outputs": [],
   "source": []
  },
  {
   "cell_type": "code",
   "execution_count": null,
   "id": "d6975e5d",
   "metadata": {},
   "outputs": [],
   "source": []
  },
  {
   "cell_type": "code",
   "execution_count": null,
   "id": "a6884e2a",
   "metadata": {},
   "outputs": [],
   "source": []
  },
  {
   "cell_type": "code",
   "execution_count": null,
   "id": "64b60c03",
   "metadata": {},
   "outputs": [],
   "source": []
  },
  {
   "cell_type": "code",
   "execution_count": null,
   "id": "aa2600ef",
   "metadata": {},
   "outputs": [],
   "source": []
  }
 ],
 "metadata": {
  "kernelspec": {
   "display_name": "Python 3 (ipykernel)",
   "language": "python",
   "name": "python3"
  },
  "language_info": {
   "codemirror_mode": {
    "name": "ipython",
    "version": 3
   },
   "file_extension": ".py",
   "mimetype": "text/x-python",
   "name": "python",
   "nbconvert_exporter": "python",
   "pygments_lexer": "ipython3",
   "version": "3.11.5"
  }
 },
 "nbformat": 4,
 "nbformat_minor": 5
}
