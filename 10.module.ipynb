{
 "cells": [
  {
   "cell_type": "markdown",
   "id": "3a60af35",
   "metadata": {},
   "source": [
    "# 모듈을 사용하기 위해서는\n",
    "\n",
    "# install - load\n",
    "\n",
    "# install 방법\n",
    "# 문법 - pip 라는 파이프라인 설치\n",
    "# ㄴ !pip install 모듈명"
   ]
  },
  {
   "cell_type": "code",
   "execution_count": 1,
   "id": "ec0fa47f",
   "metadata": {},
   "outputs": [
    {
     "name": "stderr",
     "output_type": "stream",
     "text": [
      "ERROR: Could not find a version that satisfies the requirement module_test (from versions: none)\n",
      "ERROR: No matching distribution found for module_test\n"
     ]
    }
   ],
   "source": [
    "!pip install module_test"
   ]
  },
  {
   "cell_type": "code",
   "execution_count": 13,
   "id": "e6a94632",
   "metadata": {},
   "outputs": [],
   "source": [
    "# load방법 import\n",
    "import module_test"
   ]
  },
  {
   "cell_type": "markdown",
   "id": "29c131f1",
   "metadata": {},
   "source": [
    "# load방법 2번째\n",
    "# 어떤 모듈의 특정 함수만 쓰고 싶은경우\n",
    "# from 모듈명 import 함수 (or 클래스명)"
   ]
  },
  {
   "cell_type": "code",
   "execution_count": 14,
   "id": "30d03ccd",
   "metadata": {},
   "outputs": [
    {
     "data": {
      "text/plain": [
       "30"
      ]
     },
     "execution_count": 14,
     "metadata": {},
     "output_type": "execute_result"
    }
   ],
   "source": [
    "module_test.addNum(10,20)"
   ]
  }
 ],
 "metadata": {
  "kernelspec": {
   "display_name": "Python 3 (ipykernel)",
   "language": "python",
   "name": "python3"
  },
  "language_info": {
   "codemirror_mode": {
    "name": "ipython",
    "version": 3
   },
   "file_extension": ".py",
   "mimetype": "text/x-python",
   "name": "python",
   "nbconvert_exporter": "python",
   "pygments_lexer": "ipython3",
   "version": "3.11.5"
  }
 },
 "nbformat": 4,
 "nbformat_minor": 5
}
