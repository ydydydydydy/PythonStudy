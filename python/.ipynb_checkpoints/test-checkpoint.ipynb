{
 "cells": [
  {
   "cell_type": "code",
   "execution_count": 1,
   "id": "b7802d82",
   "metadata": {},
   "outputs": [],
   "source": [
    "list_fruit=[\"사과\", \"배\", \"포도\",\"딸기\"]"
   ]
  },
  {
   "cell_type": "code",
   "execution_count": 2,
   "id": "5302160f",
   "metadata": {},
   "outputs": [],
   "source": [
    "list_fruit.insert(1,\"망고\")"
   ]
  },
  {
   "cell_type": "code",
   "execution_count": 3,
   "id": "b5c43efc",
   "metadata": {},
   "outputs": [],
   "source": [
    "list_fruit.append(\"바나나\")"
   ]
  },
  {
   "cell_type": "code",
   "execution_count": 4,
   "id": "d3fcd153",
   "metadata": {},
   "outputs": [
    {
     "name": "stdout",
     "output_type": "stream",
     "text": [
      "['사과', '망고', '배', '포도', '딸기', '바나나']\n"
     ]
    }
   ],
   "source": [
    "print(list_fruit)"
   ]
  },
  {
   "cell_type": "markdown",
   "id": "f51debbe",
   "metadata": {},
   "source": [
    "## "
   ]
  },
  {
   "cell_type": "code",
   "execution_count": 5,
   "id": "7b703a55",
   "metadata": {},
   "outputs": [
    {
     "name": "stdout",
     "output_type": "stream",
     "text": [
      "13\n"
     ]
    }
   ],
   "source": [
    "def add_num(a,b):\n",
    "    result=a+b\n",
    "    return result\n",
    "result=add_num(10,3)\n",
    "print(result)"
   ]
  },
  {
   "cell_type": "markdown",
   "id": "661e4b2d",
   "metadata": {},
   "source": [
    "## "
   ]
  },
  {
   "cell_type": "code",
   "execution_count": 9,
   "id": "c65d2b8a",
   "metadata": {},
   "outputs": [
    {
     "name": "stdout",
     "output_type": "stream",
     "text": [
      "첫 번째 정수 입력:10\n",
      "두 번째 정수 입력:5\n",
      "연산자 입력(+,-,*,/):/\n",
      "연산결과: 2.0\n"
     ]
    }
   ],
   "source": [
    "num1=int(input(\"첫 번째 정수 입력:\"))\n",
    "num2 = int(input(\"두 번째 정수 입력:\"))\n",
    "operator=input(\"연산자 입력(+,-,*,/):\")\n",
    "if operator=='+':\n",
    "    result=num1+num2\n",
    "elif operator=='-':\n",
    "    result=num1-num2\n",
    "elif operator=='*':\n",
    "    result=num1*num2\n",
    "elif operator=='/':\n",
    "    result=num1/num2\n",
    "print(\"연산결과:\",result)"
   ]
  },
  {
   "cell_type": "markdown",
   "id": "ec64bdff",
   "metadata": {},
   "source": [
    "## "
   ]
  },
  {
   "cell_type": "code",
   "execution_count": 11,
   "id": "eca9fcae",
   "metadata": {},
   "outputs": [
    {
     "name": "stdout",
     "output_type": "stream",
     "text": [
      "2*1=2 2*2=4 2*3=6 2*4=8 2*5=10 2*6=12 2*7=14 2*8=16 2*9=18 \n",
      "3*1=3 3*2=6 3*3=9 3*4=12 3*5=15 3*6=18 3*7=21 3*8=24 3*9=27 \n",
      "4*1=4 4*2=8 4*3=12 4*4=16 4*5=20 4*6=24 4*7=28 4*8=32 4*9=36 \n",
      "5*1=5 5*2=10 5*3=15 5*4=20 5*5=25 5*6=30 5*7=35 5*8=40 5*9=45 \n",
      "6*1=6 6*2=12 6*3=18 6*4=24 6*5=30 6*6=36 6*7=42 6*8=48 6*9=54 \n",
      "7*1=7 7*2=14 7*3=21 7*4=28 7*5=35 7*6=42 7*7=49 7*8=56 7*9=63 \n",
      "8*1=8 8*2=16 8*3=24 8*4=32 8*5=40 8*6=48 8*7=56 8*8=64 8*9=72 \n",
      "9*1=9 9*2=18 9*3=27 9*4=36 9*5=45 9*6=54 9*7=63 9*8=72 9*9=81 \n"
     ]
    }
   ],
   "source": [
    "for i in range(2, 10):\n",
    "    for j in range(1, 10):\n",
    "        print(f\"{i}*{j}={i*j}\", end=\" \")\n",
    "    print()"
   ]
  },
  {
   "cell_type": "markdown",
   "id": "1f53fdb6",
   "metadata": {},
   "source": [
    "## "
   ]
  },
  {
   "cell_type": "code",
   "execution_count": 16,
   "id": "eb64fb98",
   "metadata": {},
   "outputs": [],
   "source": [
    "class MP3Player:\n",
    "\n",
    "    def __init__(self, name=\"\", color=\"\", power=False):\n",
    "        self.name = name\n",
    "        self.color = color\n",
    "        self.power = power\n",
    "\n",
    "    def powerOnOff(self, onOff):\n",
    "        pass\n",
    "\n",
    "    def play(self):\n",
    "        pass\n",
    "\n",
    "    def stop(self):\n",
    "        pass\n",
    "\n",
    "    def remove(self, number):\n",
    "        pass"
   ]
  },
  {
   "cell_type": "markdown",
   "id": "c2a01278",
   "metadata": {},
   "source": [
    "## "
   ]
  },
  {
   "cell_type": "code",
   "execution_count": 18,
   "id": "000439b7",
   "metadata": {},
   "outputs": [],
   "source": [
    "class MobilePhone:\n",
    "    def __init__(self, phoneNumber=\"\"):\n",
    "        self.phoneNumber = phoneNumber\n",
    "    \n",
    "    def call(self):\n",
    "        print(\"전화걸기\")\n",
    "        \n",
    "    def message(self):\n",
    "        print(\"문자보내기\")\n",
    "class CameraPhone(MobilePhone):\n",
    "    def picture(self):\n",
    "        print(\"사진찍기\")\n",
    "        \n",
    "    def music(self):\n",
    "        print(\"노래듣기\")\n",
    "        \n",
    "class SmartPhone(CameraPhone):\n",
    "    def __init__(self, phoneNumber=\"\", usimID=\"\"):\n",
    "        super().__init__(phoneNumber)\n",
    "        self.usimID = usimID\n",
    "        \n",
    "    def kakaoTalk(self):\n",
    "        print(\"카톡보내기\")\n",
    "    \n",
    "    def wifi(self):\n",
    "        print(\"무료 인터넷 접속하기\")"
   ]
  },
  {
   "cell_type": "markdown",
   "id": "1b3e50fb",
   "metadata": {},
   "source": [
    "## "
   ]
  },
  {
   "cell_type": "code",
   "execution_count": 20,
   "id": "89999a8c",
   "metadata": {},
   "outputs": [
    {
     "name": "stdout",
     "output_type": "stream",
     "text": [
      "*********** 끝말잇기 게임을 시작하겠습니다 **********\n",
      "첫번째 단어를 입력하세요:자전거\n",
      "단어 >>거위\n",
      "단어 >>위장\n",
      "단어 >>창소\n",
      "끝말잇기에 실패하였습니다.\n",
      "끝말잇기 끝!\n",
      "2점 입니다!\n"
     ]
    }
   ],
   "source": [
    "class WordChainGame:\n",
    "    def __init__(self):\n",
    "        self.score = 0\n",
    "        \n",
    "    def start_game(self):\n",
    "        print(\"*********** 끝말잇기 게임을 시작하겠습니다 **********\")\n",
    "        current_word=input(\"첫번째 단어를 입력하세요:\")\n",
    "        self.play_game(current_word)\n",
    "        \n",
    "    def play_game(self, current_word):\n",
    "        while True:\n",
    "            user_input = input(\"단어 >>\")\n",
    "            if self.check_validity(current_word, user_input):\n",
    "                current_word = user_input\n",
    "                self.score += 1\n",
    "            else:\n",
    "                print(\"끝말잇기 끝!\")\n",
    "                print(f\"{self.score}점 입니다!\")\n",
    "                break\n",
    "                \n",
    "    def check_validity(self, current_word, user_input):\n",
    "        if current_word[-1] == user_input[0]:\n",
    "            return True\n",
    "        else:\n",
    "            print(\"끝말잇기에 실패하였습니다.\")\n",
    "            return False\n",
    "game = WordChainGame()\n",
    "game.start_game()"
   ]
  },
  {
   "cell_type": "markdown",
   "id": "0df0e068",
   "metadata": {},
   "source": [
    "## "
   ]
  },
  {
   "cell_type": "code",
   "execution_count": 7,
   "id": "86966ceb",
   "metadata": {},
   "outputs": [
    {
     "name": "stdout",
     "output_type": "stream",
     "text": [
      "\n",
      "금액을 입력하세요 >> 3000\n",
      "음료수 자판기에 오신 것을 환영합니다!\n",
      "콜라(800원) 사이다(800원) 제로콜라(1200원) 환타(900원) 트레비(1100원)\n",
      "원하는 음료를 입력하세요! (종료를 입력하면 종료합니다) >> 종료\n",
      "종료합니다\n"
     ]
    }
   ],
   "source": [
    "drink_dic = {\"콜라\": 800, \"사이다\": 800, \"제로콜라\": 1200, \"환타\": 900, \"트레비\": 1100}\n",
    "\n",
    "def display_menu():\n",
    "    print(\"음료수 자판기에 오신 것을 환영합니다!\")\n",
    "    menu_str = \" \".join([f\"{drink}({price}원)\" for drink, price in drink_dic.items()])\n",
    "    print(menu_str)\n",
    "\n",
    "def vending_machine():\n",
    "    print(\"\")\n",
    "    total_amount = int(input(\"금액을 입력하세요 >> \"))\n",
    "\n",
    "    while True:\n",
    "        display_menu()\n",
    "        select_drink = input(\"원하는 음료를 입력하세요! (종료를 입력하면 종료합니다) >> \")\n",
    "\n",
    "        if select_drink == \"종료\":\n",
    "            print(\"종료합니다\")\n",
    "            break\n",
    "\n",
    "        if select_drink in drink_dic:\n",
    "            price = drink_dic[select_drink]\n",
    "            if total_amount >= price:\n",
    "                total_amount -= price\n",
    "                print(\"잔돈 :\", total_amount,\"원 입니다\")\n",
    "                print(\"이용해주셔서 감사합니다!\")\n",
    "            else:\n",
    "                print(\"금액이 부족합니다.\")\n",
    "                print(f\"{total_amount}원 돌려드리겠습니다.\")\n",
    "                break\n",
    "        else:\n",
    "            print(\"음료를 잘못 입력하셨습니다!\")\n",
    "\n",
    "        if select_drink != \"종료\":\n",
    "            total_amount = int(input(\"금액을 입력하세요 >> \"))\n",
    "\n",
    "vending_machine()\n"
   ]
  },
  {
   "cell_type": "code",
   "execution_count": null,
   "id": "91c80751",
   "metadata": {},
   "outputs": [],
   "source": []
  }
 ],
 "metadata": {
  "kernelspec": {
   "display_name": "Python 3 (ipykernel)",
   "language": "python",
   "name": "python3"
  },
  "language_info": {
   "codemirror_mode": {
    "name": "ipython",
    "version": 3
   },
   "file_extension": ".py",
   "mimetype": "text/x-python",
   "name": "python",
   "nbconvert_exporter": "python",
   "pygments_lexer": "ipython3",
   "version": "3.11.5"
  }
 },
 "nbformat": 4,
 "nbformat_minor": 5
}
