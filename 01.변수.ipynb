{
 "cells": [
  {
   "cell_type": "code",
   "execution_count": null,
   "id": "31cf9d34",
   "metadata": {},
   "outputs": [],
   "source": [
    "#단축키 a - above 해당 셀의 위쪽에 셀이 추가"
   ]
  },
  {
   "cell_type": "code",
   "execution_count": null,
   "id": "6422b4c8",
   "metadata": {},
   "outputs": [],
   "source": [
    "#주석은 #입니다!\n",
    "\n",
    "# 여러줄을 주석을 하고싶어요\n",
    "# 여러줄 주석하는 방법은\n",
    "# 모든줄을 블록을 씌운후 컨트롤 /를 누르면 됩니다\n",
    "\n",
    "#파란색 - command mode (단축키 사용 가능) - 셀에 관련된 단축키 사용가능\n",
    "#녹색 - edit mode( 코드 작성 )"
   ]
  },
  {
   "cell_type": "code",
   "execution_count": null,
   "id": "e376c9d5",
   "metadata": {},
   "outputs": [],
   "source": [
    "#단축키 b - below 해당 셀의 아래쪽에 셀이 추가"
   ]
  },
  {
   "attachments": {
    "image.png": {
     "image/png": "[encoded data removed]"
    }
   },
   "cell_type": "markdown",
   "id": "fe1747cc",
   "metadata": {},
   "source": [
    "마크다운의 약자 \n",
    "여기는 코드 실행하는 공간이 아닙니다.\n",
    "\n",
    "![image.png](attachment:image.png)\n",
    "\n",
    "마크다운공간 - html로 되어있어서 추후에 꾸미기도 가능\n",
    "\n",
    "이미지 캡처\n",
    "\n",
    "# 마크다운의 #은 주석이 아닙니다\n",
    "## 마크다운 # 2개일때\n",
    "### 마크다운 # 3개일때\n",
    "#### 마크다운 # 4개일때\n",
    "##### 마크다운 # 5개일때\n",
    "###### 마크다운 # 6개일때\n",
    "\n",
    "마크다운 # 7개부턴 없습니다~"
   ]
  },
  {
   "cell_type": "code",
   "execution_count": null,
   "id": "5ac2b50b",
   "metadata": {},
   "outputs": [],
   "source": [
    "#실수로 마크다운으로 바꾸었을때 상단 markdown을 code로 바꾸기\n",
    "# y - 뒤로 되돌리기"
   ]
  },
  {
   "cell_type": "code",
   "execution_count": null,
   "id": "91c450bc",
   "metadata": {},
   "outputs": [],
   "source": [
    "# 셀 삭제 - dd"
   ]
  },
  {
   "cell_type": "code",
   "execution_count": null,
   "id": "2fac3ea5",
   "metadata": {},
   "outputs": [],
   "source": [
    "#셀 안에 코드는 위에서 아래로 가는게 맞습니다\n",
    "#셀의 위치는 상관이 없습니다\n",
    "\n",
    "print(\"hello world 22\")"
   ]
  },
  {
   "cell_type": "code",
   "execution_count": null,
   "id": "cb353759",
   "metadata": {},
   "outputs": [],
   "source": [
    "#python에서는 출력을 - print()\n",
    "print(\"Hello world\")"
   ]
  },
  {
   "cell_type": "code",
   "execution_count": null,
   "id": "739efeb6",
   "metadata": {},
   "outputs": [],
   "source": [
    "#ctrl + enter 셀실행 단축키\n",
    "\n",
    "print(\"안녕\")"
   ]
  },
  {
   "cell_type": "code",
   "execution_count": null,
   "id": "c76fad56",
   "metadata": {},
   "outputs": [],
   "source": [
    "#alt + enter 셀 실행 후 아래에 셀 추가 \n",
    "print(\"세상아\")"
   ]
  },
  {
   "cell_type": "code",
   "execution_count": null,
   "id": "3b567200",
   "metadata": {},
   "outputs": [],
   "source": [
    "#shift + enter 셀 실행 후 아레에 셀 추가(아래에 셀이 없을 경우에만)\n",
    "#              아래에 셀이 있는 경우 실행 후 아래 셀로 이동"
   ]
  },
  {
   "cell_type": "code",
   "execution_count": null,
   "id": "1efe01c8",
   "metadata": {},
   "outputs": [],
   "source": [
    "num = 3\n",
    "print(num)\n",
    "print(type(num)) # type() - 해당 변수의 타입을 알려주는 함수 작성법 : type(변수명) \n",
    "\n",
    "num = 3.14\n",
    "print(num)\n",
    "print(type(num))"
   ]
  },
  {
   "cell_type": "code",
   "execution_count": null,
   "id": "9a0cd44a",
   "metadata": {},
   "outputs": [],
   "source": [
    "#변수명 짓는 규칙 (약속)\n",
    "\n",
    "#규칙 1 - 변수명은 영어, 숫자, _(언더바) 사용가능\n",
    "#  ㄴ? 한국말 안되나요? 됩니다 근데... 지양합시다 \n",
    "# 영어의 대소문자 구분\n",
    "\n",
    "number = 3\n",
    "Number = 3\n",
    "#서로 다른 변수 \n",
    "\n",
    "#언더바 사용하는 경우 - 변수명이 한단어로 표현되지 않고 여러단어로 이어질때\n",
    "#snake case \n",
    "c_class_name_list = '안녕'\n",
    "\n",
    "#규칙 2 - 숫자는 사용할 수 있으나 숫자로 시작할 순 없습니다!\n",
    "num1 = 10 # (0)\n",
    "#1num = 20 # (X)\n",
    "\n",
    "#규칙 3 - 키워드 사용 불가능\n",
    "#키워드란? 프로그래밍 언어 사용시 필요한 단어들\n",
    "#       예) if, in for while try catch .................\n",
    "\n",
    "# if #변수사용하려고 봤더니 색이 바뀐다? -> 키워드"
   ]
  },
  {
   "cell_type": "code",
   "execution_count": null,
   "id": "04205926",
   "metadata": {},
   "outputs": [],
   "source": [
    "# 약속 (권장사항) -- 안지켜도 되지만 지켜봅시다!\n",
    "#1. 변수의 시작은 소문자로 해주세요\n",
    "\n",
    "#2. 여러문자가 섞일때는 구분 (예 - snake case)\n",
    "# camel case \n",
    "cClassNameList = '하세요'"
   ]
  },
  {
   "cell_type": "code",
   "execution_count": null,
   "id": "a7f4cad4",
   "metadata": {},
   "outputs": [],
   "source": [
    "#boolean - 참/ 거짓 True, False\n",
    "\n",
    "b = True\n",
    "b2 = False\n",
    "\n",
    "print(b)\n",
    "print(b2)\n",
    "\n",
    "print(type(b))\n",
    "print(type(b2))"
   ]
  },
  {
   "cell_type": "code",
   "execution_count": null,
   "id": "29f1bc5a",
   "metadata": {},
   "outputs": [],
   "source": [
    "#문자열 - String (str)\n",
    "str1 = \"python\"\n",
    "print(str1)\n",
    "print(type(str1))"
   ]
  },
  {
   "cell_type": "code",
   "execution_count": null,
   "id": "ae834391",
   "metadata": {},
   "outputs": [],
   "source": [
    "#문자열 사용 방법 \n",
    "# \"\"(큰따옴표), ''(작은따옴표), \"\"\"\"\"\"(삼중따옴표) 모두 가능 \n",
    "# ㄴ 큰따옴표와 작은따옴표를 구분 짓지 않습니다\n",
    "\n",
    "str1 = 'python1'\n",
    "\n",
    "str2 = \"python2 안녕하세요 저는요 박원호입니다\" # 개행불가\n",
    "\n",
    "print(str1)\n",
    "print(str2)\n",
    "print(type(str1))\n",
    "\n",
    "#삼중따옴표는 작성한 그대로 출력 (개행 등)\n",
    "str3 = \"\"\"python3 \n",
    "안녕하세요 저는요 박원호입니다.\"\"\"\n",
    "print(str3)\n"
   ]
  },
  {
   "cell_type": "code",
   "execution_count": null,
   "id": "2e05dcfc",
   "metadata": {},
   "outputs": [],
   "source": [
    "# 문자열 내 작은따옴표나 큰따옴표를 출력하고 싶은경우\n",
    "# she's gone - 작은따옴표 출력 - 큰따옴표로 감싸기\n",
    "str4 = \"she's gone\"\n",
    "print(str4)"
   ]
  },
  {
   "cell_type": "code",
   "execution_count": null,
   "id": "370e43cc",
   "metadata": {},
   "outputs": [],
   "source": [
    "#이스케이프 코드\n",
    "# ㄴ 프로그래밍 미리 정해둔 문자 조합\n",
    "\n",
    "# 1. 개행(줄바꿈) = \\n (enter)\n",
    "str5 = '안녕하세요 \\n 제 이름은 \\n 박원호 입니다.'\n",
    "print(str5)\n",
    "\n",
    "# 2. 탭 (일정 간격 space) = \\t (tab)\n",
    "str6 = '안녕 \\t 세상아'\n",
    "print(str6)\n",
    "\n",
    "#3. \\사용하고 싶을 때 - \\\\\n",
    "str7 = '안녕 \\\\ 반가워'\n",
    "print(str7)\n",
    "\n",
    "#4,5 ' \" 사용하고 싶을때 = \\' or \\\"\n",
    "str8 = 'she\\'s gone'\n",
    "print(str8)"
   ]
  },
  {
   "cell_type": "code",
   "execution_count": null,
   "id": "e9286e7e",
   "metadata": {},
   "outputs": [],
   "source": [
    "str9 = \"my name is wh\"\n",
    "\n",
    "#문자열 인덱싱 - 가르킨다 \n",
    "#인덱싱 하는 방법 \n",
    "#문자열변수[인덱스 번호]\n",
    "print(str9[0])\n",
    "print(str9[3]) # 공백도 하나의 위치를 차지\n",
    "\n",
    "print(str9[-1]) # 음수 작성시엔 역순으로 인덱싱\n",
    "print(str9[-2])"
   ]
  },
  {
   "cell_type": "code",
   "execution_count": null,
   "id": "aee3ed92",
   "metadata": {},
   "outputs": [],
   "source": [
    "#문자열 슬라이싱 - 무언가를 자른다\n",
    "#슬라이싱의 방법은 인덱싱과 유사 문자열변수명[시작:끝]\n",
    "#    ㄴ 시작은 이상 끝은 미만\n",
    "\n",
    "print(str9[0:1]) # m \n",
    "print(str9[0:2]) #my\n",
    "print(str9[3:7]) #name\n",
    "\n",
    "#음수\n",
    "print(str9[-2:-1])\n",
    "\n",
    "\n",
    "#시작이 0인경우 생략이 가능\n",
    "print(str9[:2]) #my\n",
    "\n",
    "#끝이 마지막인 경우 생략이 가능\n",
    "print(str9[3:]) # name is wh\n",
    "\n",
    "# 위에 있는거 두개 다 더하면?!\n",
    "print(str9[:]) # 다, 처음부터 끝까지 \n",
    "\n",
    "#음수\n",
    "print(str9[-5:]) # is wh"
   ]
  },
  {
   "cell_type": "code",
   "execution_count": null,
   "id": "6ede4c45",
   "metadata": {},
   "outputs": [],
   "source": [
    "#슬라이싱과 인덱싱 사용하여\n",
    "day = \"2023년 11월 28일의 날씨는 맑음입니다.\"\n",
    "\n",
    "\n",
    "#문자열을 이어쓰는 경우 ,(쉼표) 사용\n",
    "#첫번째 출력문 - 2023년 11월 28일\n",
    "print(\"날짜 : \", day[:13])\n",
    "#두번째 출력문 - 맑음\n",
    "print(\"날씨 :\" , day[-6:-4])"
   ]
  },
  {
   "cell_type": "code",
   "execution_count": null,
   "id": "e2022db2",
   "metadata": {},
   "outputs": [],
   "source": [
    "#formatting - 문자열 안의 값을 바꿀 경우 사용\n",
    "#formatting 방법 3가지\n",
    "# 1.%기호 사용\n",
    "# 2.format() 함수 사용\n",
    "# 3. f문자열 포매팅"
   ]
  },
  {
   "cell_type": "code",
   "execution_count": 2,
   "id": "9f6f0956",
   "metadata": {},
   "outputs": [
    {
     "name": "stdout",
     "output_type": "stream",
     "text": [
      "오늘은 11월 28일 입니다\n",
      "오늘은 11월 28일 입니다\n"
     ]
    }
   ],
   "source": [
    "# 1. %포매팅 - 자료형이 쉽게\n",
    "# 정수 - %d\n",
    "# 문자 - %s\n",
    "# 실수 - %f\n",
    "\n",
    "# %포매팅 사용\n",
    "num1 = 28\n",
    "str10 = \"오늘은 11월 %d일 입니다\"%num1\n",
    "print(str10)\n",
    "\n",
    "month = 11\n",
    "# 2개 이상의 변수를 포매팅 해야하는 경우\n",
    "str11 = \"오늘은 %d월 %d일 입니다\"%(month, num1)\n",
    "print(str11)"
   ]
  },
  {
   "cell_type": "code",
   "execution_count": 3,
   "id": "4f5e88f4",
   "metadata": {},
   "outputs": [
    {
     "name": "stdout",
     "output_type": "stream",
     "text": [
      "오늘은 11월 28일 입니다.\n"
     ]
    }
   ],
   "source": [
    "#2. format함수 - 변수의 개수가 늘었을때 조금 혼란\n",
    "# 사용법 : 포매팅하고 싶은 변수 {}\n",
    "# 문자가 끝난 후 .format(변수)\n",
    "str12 = \"오늘은 {}월 {}일 입니다.\".format(month, num1)\n",
    "print(str12)"
   ]
  },
  {
   "cell_type": "code",
   "execution_count": 4,
   "id": "c9040650",
   "metadata": {},
   "outputs": [
    {
     "name": "stdout",
     "output_type": "stream",
     "text": [
      "오늘은 11월 28일 입니다.\n"
     ]
    }
   ],
   "source": [
    "# 3. f문자열 포매팅 \n",
    "#사용법 : f\"\" 작성 변수에 {어떤 변수가 들어올지 직접적으로 작성}\n",
    "str13 = f\"오늘은 {month}월 {num1}일 입니다.\"\n",
    "print(str13)"
   ]
  },
  {
   "cell_type": "code",
   "execution_count": 7,
   "id": "350295bb",
   "metadata": {},
   "outputs": [
    {
     "name": "stdout",
     "output_type": "stream",
     "text": [
      "100와 200의 합은 300입니다.\n",
      "100와 200의 합은 300입니다\n",
      "100와 200의 합은 300입니다\n"
     ]
    }
   ],
   "source": [
    "x = 100\n",
    "y = 200\n",
    "sum2 = x+y\n",
    "print(f\"{x}와 {y}의 합은 {sum2}입니다.\")\n",
    "print(\"{}와 {}의 합은 {}입니다\".format(x,y,sum2))\n",
    "print(\"%d와 %d의 합은 %d입니다\"%(x,y,sum2))"
   ]
  }
 ],
 "metadata": {
  "kernelspec": {
   "display_name": "Python 3 (ipykernel)",
   "language": "python",
   "name": "python3"
  },
  "language_info": {
   "codemirror_mode": {
    "name": "ipython",
    "version": 3
   },
   "file_extension": ".py",
   "mimetype": "text/x-python",
   "name": "python",
   "nbconvert_exporter": "python",
   "pygments_lexer": "ipython3",
   "version": "3.11.5"
  }
 },
 "nbformat": 4,
 "nbformat_minor": 5
}
